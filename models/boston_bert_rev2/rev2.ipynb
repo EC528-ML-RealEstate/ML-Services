{
 "cells": [
  {
   "cell_type": "markdown",
   "id": "3d065dc5",
   "metadata": {},
   "source": [
    "# Imports"
   ]
  },
  {
   "cell_type": "code",
   "execution_count": 2,
   "id": "fbaba7c2",
   "metadata": {},
   "outputs": [
    {
     "name": "stdout",
     "output_type": "stream",
     "text": [
      "Tensorflow version:  2.6.0\n",
      "GPU available:  [PhysicalDevice(name='/physical_device:GPU:0', device_type='GPU')]\n"
     ]
    }
   ],
   "source": [
    "import os\n",
    "import shutil\n",
    "\n",
    "import tensorflow as tf\n",
    "import tensorflow_hub as hub\n",
    "import tensorflow_text as text\n",
    "\n",
    "from official.nlp import optimization\n",
    "\n",
    "import matplotlib.pyplot as plt\n",
    "print('Tensorflow version: ', tf.__version__)\n",
    "print('GPU available: ', tf.config.list_physical_devices('GPU'))"
   ]
  },
  {
   "cell_type": "markdown",
   "id": "78bcf090",
   "metadata": {},
   "source": [
    "# Data collection"
   ]
  },
  {
   "cell_type": "code",
   "execution_count": 3,
   "id": "1b06fbe8",
   "metadata": {},
   "outputs": [],
   "source": [
    "\n",
    "data_dir = \"BostonDS/datasets/training_v2\"\n",
    "train_dir = os.path.join(data_dir, 'train')\n",
    "test_dir = os.path.join(data_dir, 'test')\n"
   ]
  },
  {
   "cell_type": "markdown",
   "id": "46735852",
   "metadata": {},
   "source": [
    "## Data reorganization"
   ]
  },
  {
   "cell_type": "code",
   "execution_count": 4,
   "id": "c7cc8f8a",
   "metadata": {},
   "outputs": [
    {
     "name": "stdout",
     "output_type": "stream",
     "text": [
      "Found 102004 files belonging to 14 classes.\n",
      "Using 81604 files for training.\n",
      "Found 102004 files belonging to 14 classes.\n",
      "Using 20400 files for validation.\n",
      "Found 19813 files belonging to 14 classes.\n"
     ]
    }
   ],
   "source": [
    "AUTOTUNE = tf.data.AUTOTUNE\n",
    "batch_size = 32\n",
    "seed = 42\n",
    "\n",
    "raw_train_ds = tf.keras.preprocessing.text_dataset_from_directory(\n",
    "    train_dir,\n",
    "    batch_size=batch_size,\n",
    "    validation_split=0.2,\n",
    "    subset='training',\n",
    "    seed=seed)\n",
    "\n",
    "class_names = raw_train_ds.class_names\n",
    "train_ds = raw_train_ds.cache().prefetch(buffer_size=AUTOTUNE)\n",
    "\n",
    "val_ds = tf.keras.preprocessing.text_dataset_from_directory(\n",
    "    train_dir,\n",
    "    batch_size=batch_size,\n",
    "    validation_split=0.2,\n",
    "    subset='validation',\n",
    "    seed=seed)\n",
    "\n",
    "val_ds = val_ds.cache().prefetch(buffer_size=AUTOTUNE)\n",
    "\n",
    "test_ds = tf.keras.preprocessing.text_dataset_from_directory(\n",
    "    test_dir,\n",
    "    batch_size=batch_size)\n",
    "\n",
    "test_ds = test_ds.cache().prefetch(buffer_size=AUTOTUNE)"
   ]
  },
  {
   "cell_type": "markdown",
   "id": "3547be28",
   "metadata": {},
   "source": [
    "## Viewing data"
   ]
  },
  {
   "cell_type": "code",
   "execution_count": 5,
   "id": "c177756d",
   "metadata": {},
   "outputs": [
    {
     "name": "stdout",
     "output_type": "stream",
     "text": [
      "Description: b'Install Low Voltage wiring for 20 Valve Irrigation System'\n",
      "Label : 3 (Electrical_Low_Voltage)\n",
      "Description: b'Grounding of generator and temp power for stage.'\n",
      "Label : 5 (Electrical_Temporary_Service)\n",
      "Description: b'RECONSTRUCT 160X11 OF SIDEWALK // MAINTAIN PEDESTRIAN SAFETY // SDEP-1177777 //;7:00AM TO 3:00PM // POLICE DETAIL AREA C 617-343-4343'\n",
      "Label : 7 (Excavation_Permit)\n"
     ]
    }
   ],
   "source": [
    "for text_batch, label_batch in train_ds.take(1):\n",
    "  for i in range(3):\n",
    "    print(f'Description: {text_batch.numpy()[i]}')\n",
    "    label = label_batch.numpy()[i]\n",
    "    print(f'Label : {label} ({class_names[label]})')"
   ]
  },
  {
   "cell_type": "markdown",
   "id": "23e4cabf",
   "metadata": {},
   "source": [
    "# BERT"
   ]
  },
  {
   "cell_type": "code",
   "execution_count": 13,
   "id": "470f4984",
   "metadata": {},
   "outputs": [],
   "source": [
    "bert_model_name = 'small_bert/bert_en_uncased_L-4_H-512_A-8'\n",
    "model_encoder = 'https://tfhub.dev/tensorflow/small_bert/bert_en_uncased_L-4_H-512_A-8/1'\n",
    "model_preprocess = 'https://tfhub.dev/tensorflow/bert_en_uncased_preprocess/3'"
   ]
  },
  {
   "cell_type": "code",
   "execution_count": 14,
   "id": "d94ce118",
   "metadata": {},
   "outputs": [],
   "source": [
    "bert_preprocess_model = hub.KerasLayer(model_preprocess)"
   ]
  },
  {
   "cell_type": "code",
   "execution_count": 16,
   "id": "bb482c4f",
   "metadata": {},
   "outputs": [],
   "source": [
    "bert_model = hub.KerasLayer(model_encoder)\n"
   ]
  },
  {
   "cell_type": "markdown",
   "id": "16392e5f",
   "metadata": {},
   "source": [
    "## Building classifier with BERT"
   ]
  },
  {
   "cell_type": "code",
   "execution_count": 33,
   "id": "10467303",
   "metadata": {},
   "outputs": [],
   "source": [
    "def build_classifier_model():\n",
    "  text_input = tf.keras.layers.Input(shape=(), dtype=tf.string, name='text')\n",
    "  preprocessing_layer = hub.KerasLayer(model_preprocess, name='preprocessing')\n",
    "  encoder_inputs = preprocessing_layer(text_input)\n",
    "  encoder = hub.KerasLayer(model_encoder, trainable=True, name='BERT_encoder')\n",
    "  outputs = encoder(encoder_inputs)\n",
    "  net = outputs['pooled_output']\n",
    "  net = tf.keras.layers.Dropout(0.1)(net)\n",
    "  net = tf.keras.layers.Dense(14, activation=tf.nn.softmax, name='classifier')(net)\n",
    "  return tf.keras.Model(text_input, net)\n",
    "\n",
    "classifier_model = build_classifier_model()\n"
   ]
  },
  {
   "cell_type": "markdown",
   "id": "20ba6421",
   "metadata": {},
   "source": [
    "## Training model"
   ]
  },
  {
   "cell_type": "code",
   "execution_count": 36,
   "id": "689ccf6d",
   "metadata": {},
   "outputs": [
    {
     "name": "stdout",
     "output_type": "stream",
     "text": [
      "Training model with https://tfhub.dev/tensorflow/small_bert/bert_en_uncased_L-4_H-512_A-8/1\n",
      "Epoch 1/3\n",
      "2551/2551 [==============================] - 549s 214ms/step - loss: 2.0201 - accuracy: 0.7436 - sparse_top_k_categorical_accuracy: 0.8887 - val_loss: 1.9089 - val_accuracy: 0.8461 - val_sparse_top_k_categorical_accuracy: 0.9441\n",
      "Epoch 2/3\n",
      "2551/2551 [==============================] - 545s 214ms/step - loss: 1.8802 - accuracy: 0.8760 - sparse_top_k_categorical_accuracy: 0.9704 - val_loss: 1.8596 - val_accuracy: 0.8957 - val_sparse_top_k_categorical_accuracy: 0.9796\n",
      "Epoch 3/3\n",
      "2551/2551 [==============================] - 544s 213ms/step - loss: 1.8484 - accuracy: 0.9076 - sparse_top_k_categorical_accuracy: 0.9801 - val_loss: 1.8544 - val_accuracy: 0.9008 - val_sparse_top_k_categorical_accuracy: 0.9824\n"
     ]
    }
   ],
   "source": [
    "loss = tf.keras.losses.SparseCategoricalCrossentropy(from_logits=True)\n",
    "metrics = ['accuracy', tf.keras.metrics.SparseTopKCategoricalAccuracy(k=5)]\n",
    "epochs = 3\n",
    "steps_per_epoch = tf.data.experimental.cardinality(train_ds).numpy()\n",
    "num_train_steps = steps_per_epoch * epochs\n",
    "num_warmup_steps = int(0.1*num_train_steps)\n",
    "\n",
    "init_lr = 3e-5\n",
    "optimizer = optimization.create_optimizer(init_lr=init_lr,\n",
    "                                          num_train_steps=num_train_steps,\n",
    "                                          num_warmup_steps=num_warmup_steps,\n",
    "                                          optimizer_type='adamw')\n",
    "classifier_model.compile(optimizer=optimizer,\n",
    "                         loss=loss,\n",
    "                         metrics=metrics)\n",
    "\n",
    "print(f'Training model with {model_encoder}')\n",
    "history = classifier_model.fit(x=train_ds,\n",
    "                               validation_data=val_ds,\n",
    "                               epochs=epochs)"
   ]
  },
  {
   "cell_type": "code",
   "execution_count": 37,
   "id": "acaab6d8",
   "metadata": {},
   "outputs": [
    {
     "name": "stdout",
     "output_type": "stream",
     "text": [
      "620/620 [==============================] - 70s 114ms/step - loss: 1.8599 - accuracy: 0.8949 - sparse_top_k_categorical_accuracy: 0.9771\n",
      "Loss: 1.8598577976226807\n",
      "Accuracy: 0.8949174880981445\n",
      "dict_keys(['loss', 'accuracy', 'sparse_top_k_categorical_accuracy', 'val_loss', 'val_accuracy', 'val_sparse_top_k_categorical_accuracy'])\n"
     ]
    },
    {
     "data": {
      "text/plain": [
       "<matplotlib.legend.Legend at 0x1f2082b3588>"
      ]
     },
     "execution_count": 37,
     "metadata": {},
     "output_type": "execute_result"
    },
    {
     "data": {
      "image/png": "[encoded data removed]",
      "text/plain": [
       "<Figure size 720x432 with 2 Axes>"
      ]
     },
     "metadata": {
      "needs_background": "light"
     },
     "output_type": "display_data"
    }
   ],
   "source": [
    "loss, accuracy, topkacc = classifier_model.evaluate(test_ds)\n",
    "\n",
    "print(f'Loss: {loss}')\n",
    "print(f'Accuracy: {accuracy}')\n",
    "\n",
    "history_dict = history.history\n",
    "print(history_dict.keys())\n",
    "\n",
    "acc = history_dict['sparse_top_k_categorical_accuracy']\n",
    "val_acc = history_dict['val_sparse_top_k_categorical_accuracy']\n",
    "loss = history_dict['loss']\n",
    "val_loss = history_dict['val_loss']\n",
    "\n",
    "epochs = range(1, len(acc) + 1)\n",
    "fig = plt.figure(figsize=(10, 6))\n",
    "fig.tight_layout()\n",
    "\n",
    "plt.subplot(2, 1, 1)\n",
    "# \"bo\" is for \"blue dot\"\n",
    "plt.plot(epochs, loss, 'r', label='Training loss')\n",
    "# b is for \"solid blue line\"\n",
    "plt.plot(epochs, val_loss, 'b', label='Validation loss')\n",
    "plt.title('Training and validation loss')\n",
    "# plt.xlabel('Epochs')\n",
    "plt.ylabel('Loss')\n",
    "plt.legend()\n",
    "\n",
    "plt.subplot(2, 1, 2)\n",
    "plt.plot(epochs, acc, 'r', label='Training acc')\n",
    "plt.plot(epochs, val_acc, 'b', label='Validation acc')\n",
    "plt.title('Training and validation accuracy')\n",
    "plt.xlabel('Epochs')\n",
    "plt.ylabel('Accuracy')\n",
    "plt.legend(loc='lower right')"
   ]
  },
  {
   "cell_type": "code",
   "execution_count": 39,
   "id": "74bc466b",
   "metadata": {},
   "outputs": [
    {
     "name": "stderr",
     "output_type": "stream",
     "text": [
      "WARNING:absl:Found untraced functions such as restored_function_body, restored_function_body, restored_function_body, restored_function_body, restored_function_body while saving (showing 5 of 310). These functions will not be directly callable after loading.\n"
     ]
    },
    {
     "name": "stdout",
     "output_type": "stream",
     "text": [
      "INFO:tensorflow:Assets written to: ./boston_DS_bert_noID\\assets\n"
     ]
    },
    {
     "name": "stderr",
     "output_type": "stream",
     "text": [
      "INFO:tensorflow:Assets written to: ./boston_DS_bert_noID\\assets\n"
     ]
    }
   ],
   "source": [
    "dataset_name = 'boston_DS'\n",
    "saved_model_path = './{}_bert_noID'.format(dataset_name.replace('/', '_'))\n",
    "\n",
    "classifier_model.save(saved_model_path)"
   ]
  },
  {
   "cell_type": "code",
   "execution_count": 25,
   "id": "c592cd10",
   "metadata": {},
   "outputs": [],
   "source": [
    "# reloaded_model = tf.saved_model.load(saved_model_path)\n",
    "reloaded_model = tf.saved_model.load(saved_model_path)"
   ]
  },
  {
   "cell_type": "code",
   "execution_count": 38,
   "id": "6d16bf21",
   "metadata": {
    "scrolled": true
   },
   "outputs": [
    {
     "name": "stdout",
     "output_type": "stream",
     "text": [
      "['Amendment_to_a_Long_Form', 'Certificate_of_Occupancy', 'Electrical_Fire_Alarms', 'Electrical_Low_Voltage', 'Electrical_Permit', 'Electrical_Temporary_Service', 'Erect_New_Construction', 'Excavation_Permit', 'Foundation_Permit', 'Gas_Permit', 'Long_Form_Alteration_Permit', 'Plumbing_Permit', 'Short_Form_Bldg_Permit', 'Use_of_Premises']\n",
      "tf.Tensor(\n",
      "[[3.3215638e-05 1.0027442e-04 4.2889318e-01 5.1022261e-01 1.4127263e-02\n",
      "  1.5748059e-02 1.9004412e-05 1.5194869e-03 9.0189331e-04 1.6381250e-03\n",
      "  5.1751063e-05 2.6368570e-02 1.6997439e-05 3.5955606e-04]\n",
      " [1.4929084e-07 7.3267290e-07 1.5396800e-07 7.3417186e-07 1.1247987e-07\n",
      "  4.3993276e-07 1.5403894e-07 8.0228085e-07 5.2466896e-07 5.4096768e-07\n",
      "  1.1163753e-07 9.9999475e-01 2.4549993e-07 5.0818335e-07]\n",
      " [8.3531877e-06 2.8638702e-05 2.4305500e-06 7.5919893e-06 5.2300884e-06\n",
      "  3.1379977e-06 2.6894809e-04 8.0277832e-06 1.4503854e-05 2.1435675e-05\n",
      "  3.5931719e-06 2.3567743e-06 2.4393555e-06 9.9962330e-01]\n",
      " [5.1933756e-07 5.0649066e-07 5.1803022e-07 9.9997520e-01 4.9664402e-07\n",
      "  6.2948777e-07 3.0691689e-07 3.1134739e-06 3.4656350e-06 1.5666776e-06\n",
      "  9.6468366e-06 9.4819677e-07 1.4072715e-06 1.7035165e-06]\n",
      " [1.2634920e-05 1.4322203e-06 9.9996746e-01 6.3561242e-07 2.3085454e-07\n",
      "  2.5015675e-06 4.4530853e-07 2.6409020e-06 4.5292268e-06 3.2745040e-06\n",
      "  3.6756055e-07 1.7715761e-06 1.3340012e-06 7.0496247e-07]], shape=(5, 14), dtype=float32)\n",
      "Results:\n",
      "\t Electrical_Low_Voltage\n",
      "\t Plumbing_Permit\n",
      "\t Use_of_Premises\n",
      "\t Electrical_Low_Voltage\n",
      "\t Electrical_Fire_Alarms\n"
     ]
    }
   ],
   "source": [
    "import numpy as np\n",
    "\n",
    "def print_my_examples(inputs, results):\n",
    "  result_for_printing = \\\n",
    "    [f'input: {inputs[i]:<30} : score: {results[i][0]:.6f}'\n",
    "                         for i in range(len(inputs))]\n",
    "  print(*result_for_printing, sep='\\n')\n",
    "  print()\n",
    "\n",
    "\n",
    "examples = [\n",
    "    'work for Blue Bottle Cafe RTU connection',\n",
    "    'Install toilet  sink  lavs  shower  laundry and water heater.',\n",
    "    'Residential Parking,use of premises for;1 car parking with new driveway  eplan',\n",
    "    'Low Voltage,To install an intercom door bell system and security camera in the buildingTo install TV cable  in all three floor',\n",
    "    'Relocate existing smoke detectors and horn/strobes. Install additional smoke detectors and horn/strobes for new 5th. floor office lay-out.'\n",
    "]\n",
    "\n",
    "# reloaded_results = reloaded_model(tf.constant(examples))\n",
    "original_results = classifier_model(tf.constant(examples))\n",
    "print(class_names)\n",
    "print(original_results)\n",
    "print('Results:')\n",
    "max_ind = np.argmax(original_results.numpy(), axis=1)\n",
    "for idx in max_ind:\n",
    "    print('\\t',class_names[idx])\n"
   ]
  },
  {
   "cell_type": "code",
   "execution_count": null,
   "id": "a7efbb83",
   "metadata": {},
   "outputs": [],
   "source": []
  }
 ],
 "metadata": {
  "kernelspec": {
   "display_name": "Python 3 (ipykernel)",
   "language": "python",
   "name": "python3"
  },
  "language_info": {
   "codemirror_mode": {
    "name": "ipython",
    "version": 3
   },
   "file_extension": ".py",
   "mimetype": "text/x-python",
   "name": "python",
   "nbconvert_exporter": "python",
   "pygments_lexer": "ipython3",
   "version": "3.7.4"
  }
 },
 "nbformat": 4,
 "nbformat_minor": 5
}
