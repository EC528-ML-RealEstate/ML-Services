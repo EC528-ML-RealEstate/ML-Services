{
 "cells": [
  {
   "cell_type": "code",
   "execution_count": 2,
   "id": "fbaba7c2",
   "metadata": {},
   "outputs": [
    {
     "name": "stdout",
     "output_type": "stream",
     "text": [
      "Tensorflow version:  2.6.0\n",
      "GPU available:  [PhysicalDevice(name='/physical_device:GPU:0', device_type='GPU')]\n"
     ]
    }
   ],
   "source": [
    "import os\n",
    "import shutil\n",
    "\n",
    "import tensorflow as tf\n",
    "import tensorflow_hub as hub\n",
    "import tensorflow_text as text\n",
    "\n",
    "from official.nlp import optimization\n",
    "\n",
    "import matplotlib.pyplot as plt\n",
    "print('Tensorflow version: ', tf.__version__)\n",
    "print('GPU available: ', tf.config.list_physical_devices('GPU'))"
   ]
  },
  {
   "cell_type": "code",
   "execution_count": 3,
   "id": "ba4b16fd",
   "metadata": {},
   "outputs": [],
   "source": [
    "data_dir = \"BostonDS/datasets/initial_training\"\n",
    "train_dir = os.path.join(data_dir, 'train')\n",
    "test_dir = os.path.join(data_dir, 'test')\n"
   ]
  },
  {
   "cell_type": "code",
   "execution_count": 4,
   "id": "c7cc8f8a",
   "metadata": {},
   "outputs": [
    {
     "name": "stdout",
     "output_type": "stream",
     "text": [
      "Found 102004 files belonging to 14 classes.\n",
      "Using 81604 files for training.\n",
      "Found 102004 files belonging to 14 classes.\n",
      "Using 20400 files for validation.\n",
      "Found 19813 files belonging to 14 classes.\n"
     ]
    }
   ],
   "source": [
    "AUTOTUNE = tf.data.AUTOTUNE\n",
    "batch_size = 32\n",
    "seed = 42\n",
    "\n",
    "raw_train_ds = tf.keras.preprocessing.text_dataset_from_directory(\n",
    "    train_dir,\n",
    "    batch_size=batch_size,\n",
    "    validation_split=0.2,\n",
    "    subset='training',\n",
    "    seed=seed)\n",
    "\n",
    "class_names = raw_train_ds.class_names\n",
    "train_ds = raw_train_ds.cache().prefetch(buffer_size=AUTOTUNE)\n",
    "\n",
    "val_ds = tf.keras.preprocessing.text_dataset_from_directory(\n",
    "    train_dir,\n",
    "    batch_size=batch_size,\n",
    "    validation_split=0.2,\n",
    "    subset='validation',\n",
    "    seed=seed)\n",
    "\n",
    "val_ds = val_ds.cache().prefetch(buffer_size=AUTOTUNE)\n",
    "\n",
    "test_ds = tf.keras.preprocessing.text_dataset_from_directory(\n",
    "    test_dir,\n",
    "    batch_size=batch_size)\n",
    "\n",
    "test_ds = test_ds.cache().prefetch(buffer_size=AUTOTUNE)"
   ]
  },
  {
   "cell_type": "code",
   "execution_count": 6,
   "id": "c177756d",
   "metadata": {},
   "outputs": [
    {
     "name": "stdout",
     "output_type": "stream",
     "text": [
      "Description: b'PL1160943,PLUMBING,Plumbing,Unit 1213 - Replace plumbing fixtures'\n",
      "Label : 11 (Plumbing_Permit)\n",
      "Description: b'ALT1071463,INTREN,Renovations - Interior NSC,roofing 24sq  siding33sq  front/back porch repairs  replace slider door  demo non structural wall  flooring and painting throughout the house  remodel kitchen and bathroom  update electrical and plumbing  new windows  update half bath  add new bathroom to second floor(eplan)'\n",
      "Label : 10 (Long_Form_Alteration_Permit)\n",
      "Description: b'ETS19362,ELECTRICAL,Electrical,Temp genny power for film production'\n",
      "Label : 5 (Electrical_Temporary_Service)\n"
     ]
    }
   ],
   "source": [
    "for text_batch, label_batch in train_ds.take(1):\n",
    "  for i in range(3):\n",
    "    print(f'Description: {text_batch.numpy()[i]}')\n",
    "    label = label_batch.numpy()[i]\n",
    "    print(f'Label : {label} ({class_names[label]})')"
   ]
  },
  {
   "cell_type": "code",
   "execution_count": 7,
   "id": "470f4984",
   "metadata": {},
   "outputs": [],
   "source": [
    "bert_model_name = 'small_bert/bert_en_uncased_L-4_H-512_A-8'\n",
    "model_encoder = 'https://tfhub.dev/tensorflow/small_bert/bert_en_uncased_L-4_H-512_A-8/1'\n",
    "model_preprocess = 'https://tfhub.dev/tensorflow/bert_en_uncased_preprocess/3'"
   ]
  },
  {
   "cell_type": "code",
   "execution_count": 8,
   "id": "d94ce118",
   "metadata": {},
   "outputs": [],
   "source": [
    "bert_preprocess_model = hub.KerasLayer(model_preprocess)"
   ]
  },
  {
   "cell_type": "code",
   "execution_count": 9,
   "id": "47b52380",
   "metadata": {},
   "outputs": [
    {
     "name": "stdout",
     "output_type": "stream",
     "text": [
      "Keys       : ['input_mask', 'input_word_ids', 'input_type_ids']\n",
      "Shape      : (1, 128)\n",
      "Word Ids   : [ 101 2023 2003 2107 2019 6429 3185  999  102    0    0    0]\n",
      "Input Mask : [1 1 1 1 1 1 1 1 1 0 0 0]\n",
      "Type Ids   : [0 0 0 0 0 0 0 0 0 0 0 0]\n"
     ]
    }
   ],
   "source": [
    "text_test = ['this is such an amazing movie!']\n",
    "text_preprocessed = bert_preprocess_model(text_test)\n",
    "\n",
    "print(f'Keys       : {list(text_preprocessed.keys())}')\n",
    "print(f'Shape      : {text_preprocessed[\"input_word_ids\"].shape}')\n",
    "print(f'Word Ids   : {text_preprocessed[\"input_word_ids\"][0, :12]}')\n",
    "print(f'Input Mask : {text_preprocessed[\"input_mask\"][0, :12]}')\n",
    "print(f'Type Ids   : {text_preprocessed[\"input_type_ids\"][0, :12]}')"
   ]
  },
  {
   "cell_type": "code",
   "execution_count": 10,
   "id": "bb482c4f",
   "metadata": {},
   "outputs": [
    {
     "name": "stdout",
     "output_type": "stream",
     "text": [
      "Loaded BERT: https://tfhub.dev/tensorflow/small_bert/bert_en_uncased_L-4_H-512_A-8/1\n",
      "Pooled Outputs Shape:(1, 512)\n",
      "Pooled Outputs Values:[ 0.76265013  0.99280924 -0.18567446  0.36696342  0.15207702  0.65472066\n",
      "  0.96803373 -0.94872004  0.00212172 -0.98775613  0.06880213 -0.9763444 ]\n",
      "Sequence Outputs Shape:(1, 128, 512)\n",
      "Sequence Outputs Values:[[-0.28914532  0.34312406  0.33211374 ...  0.21299645  0.7093592\n",
      "  -0.05769156]\n",
      " [-0.28731355  0.32045546 -0.23096198 ...  0.58478135 -0.21415293\n",
      "   0.72672755]\n",
      " [-0.6613585   0.6888145  -0.87392294 ...  0.10913941 -0.26269644\n",
      "   0.4778076 ]\n",
      " ...\n",
      " [-0.22536965 -0.2888788  -0.07084132 ...  0.47622922  0.83254266\n",
      "   0.39969602]\n",
      " [-0.29792786 -0.27416703 -0.05504339 ...  0.48902804  1.0955799\n",
      "   0.18092874]\n",
      " [-0.44318354  0.00971647  0.07226141 ...  0.17276692  1.1832001\n",
      "   0.07846964]]\n"
     ]
    }
   ],
   "source": [
    "bert_model = hub.KerasLayer(model_encoder)\n",
    "\n",
    "bert_results = bert_model(text_preprocessed)\n",
    "\n",
    "print(f'Loaded BERT: {model_encoder}')\n",
    "print(f'Pooled Outputs Shape:{bert_results[\"pooled_output\"].shape}')\n",
    "print(f'Pooled Outputs Values:{bert_results[\"pooled_output\"][0, :12]}')\n",
    "print(f'Sequence Outputs Shape:{bert_results[\"sequence_output\"].shape}')\n",
    "print(f'Sequence Outputs Values:{bert_results[\"sequence_output\"][0, :12]}')"
   ]
  },
  {
   "cell_type": "code",
   "execution_count": 11,
   "id": "10467303",
   "metadata": {},
   "outputs": [
    {
     "name": "stdout",
     "output_type": "stream",
     "text": [
      "tf.Tensor(\n",
      "[[0.82804716 0.3016719  0.309959   0.41529283 0.20178011 0.39260787\n",
      "  0.87124705 0.4348611  0.79524434 0.45323136 0.34849617 0.65508336\n",
      "  0.42567655 0.16392133]], shape=(1, 14), dtype=float32)\n"
     ]
    }
   ],
   "source": [
    "def build_classifier_model():\n",
    "  text_input = tf.keras.layers.Input(shape=(), dtype=tf.string, name='text')\n",
    "  preprocessing_layer = hub.KerasLayer(model_preprocess, name='preprocessing')\n",
    "  encoder_inputs = preprocessing_layer(text_input)\n",
    "  encoder = hub.KerasLayer(model_encoder, trainable=True, name='BERT_encoder')\n",
    "  outputs = encoder(encoder_inputs)\n",
    "  net = outputs['pooled_output']\n",
    "  net = tf.keras.layers.Dropout(0.1)(net)\n",
    "  net = tf.keras.layers.Dense(14, activation=None, name='classifier')(net)\n",
    "  return tf.keras.Model(text_input, net)\n",
    "\n",
    "# Test the model maker\n",
    "classifier_model = build_classifier_model()\n",
    "bert_raw_result = classifier_model(tf.constant(text_test))\n",
    "print(tf.sigmoid(bert_raw_result))"
   ]
  },
  {
   "cell_type": "code",
   "execution_count": 12,
   "id": "689ccf6d",
   "metadata": {},
   "outputs": [
    {
     "name": "stdout",
     "output_type": "stream",
     "text": [
      "Training model with https://tfhub.dev/tensorflow/small_bert/bert_en_uncased_L-4_H-512_A-8/1\n",
      "Epoch 1/5\n",
      "2551/2551 [==============================] - 613s 239ms/step - loss: 0.2421 - sparse_top_k_categorical_accuracy: 0.9643 - val_loss: 3.6383e-05 - val_sparse_top_k_categorical_accuracy: 1.0000\n",
      "Epoch 2/5\n",
      "2551/2551 [==============================] - 581s 228ms/step - loss: 3.9444e-04 - sparse_top_k_categorical_accuracy: 1.0000 - val_loss: 1.6157e-05 - val_sparse_top_k_categorical_accuracy: 1.0000\n",
      "Epoch 3/5\n",
      "2551/2551 [==============================] - 581s 228ms/step - loss: 3.1296e-04 - sparse_top_k_categorical_accuracy: 1.0000 - val_loss: 1.0957e-05 - val_sparse_top_k_categorical_accuracy: 1.0000\n",
      "Epoch 4/5\n",
      "2551/2551 [==============================] - 580s 228ms/step - loss: 2.4397e-04 - sparse_top_k_categorical_accuracy: 1.0000 - val_loss: 1.7591e-05 - val_sparse_top_k_categorical_accuracy: 1.0000\n",
      "Epoch 5/5\n",
      "2551/2551 [==============================] - 581s 228ms/step - loss: 1.1828e-04 - sparse_top_k_categorical_accuracy: 1.0000 - val_loss: 3.0177e-06 - val_sparse_top_k_categorical_accuracy: 1.0000\n"
     ]
    }
   ],
   "source": [
    "loss = tf.keras.losses.SparseCategoricalCrossentropy(from_logits=True)\n",
    "metrics = tf.keras.metrics.SparseTopKCategoricalAccuracy(k=5)\n",
    "epochs = 5\n",
    "steps_per_epoch = tf.data.experimental.cardinality(train_ds).numpy()\n",
    "num_train_steps = steps_per_epoch * epochs\n",
    "num_warmup_steps = int(0.1*num_train_steps)\n",
    "\n",
    "init_lr = 3e-5\n",
    "optimizer = optimization.create_optimizer(init_lr=init_lr,\n",
    "                                          num_train_steps=num_train_steps,\n",
    "                                          num_warmup_steps=num_warmup_steps,\n",
    "                                          optimizer_type='adamw')\n",
    "classifier_model.compile(optimizer=optimizer,\n",
    "                         loss=loss,\n",
    "                         metrics=metrics)\n",
    "\n",
    "print(f'Training model with {model_encoder}')\n",
    "history = classifier_model.fit(x=train_ds,\n",
    "                               validation_data=val_ds,\n",
    "                               epochs=epochs)"
   ]
  },
  {
   "cell_type": "code",
   "execution_count": 14,
   "id": "acaab6d8",
   "metadata": {},
   "outputs": [
    {
     "name": "stdout",
     "output_type": "stream",
     "text": [
      "620/620 [==============================] - 76s 123ms/step - loss: 2.4498e-06 - sparse_top_k_categorical_accuracy: 1.0000\n",
      "Loss: 2.4497599042661022e-06\n",
      "Accuracy: 1.0\n",
      "dict_keys(['loss', 'sparse_top_k_categorical_accuracy', 'val_loss', 'val_sparse_top_k_categorical_accuracy'])\n"
     ]
    },
    {
     "data": {
      "text/plain": [
       "<matplotlib.legend.Legend at 0x2e02f5a7448>"
      ]
     },
     "execution_count": 14,
     "metadata": {},
     "output_type": "execute_result"
    },
    {
     "data": {
      "image/png": "[encoded data removed]",
      "text/plain": [
       "<Figure size 720x432 with 2 Axes>"
      ]
     },
     "metadata": {
      "needs_background": "light"
     },
     "output_type": "display_data"
    }
   ],
   "source": [
    "loss, accuracy = classifier_model.evaluate(test_ds)\n",
    "\n",
    "print(f'Loss: {loss}')\n",
    "print(f'Accuracy: {accuracy}')\n",
    "\n",
    "history_dict = history.history\n",
    "print(history_dict.keys())\n",
    "\n",
    "acc = history_dict['sparse_top_k_categorical_accuracy']\n",
    "val_acc = history_dict['val_sparse_top_k_categorical_accuracy']\n",
    "loss = history_dict['loss']\n",
    "val_loss = history_dict['val_loss']\n",
    "\n",
    "epochs = range(1, len(acc) + 1)\n",
    "fig = plt.figure(figsize=(10, 6))\n",
    "fig.tight_layout()\n",
    "\n",
    "plt.subplot(2, 1, 1)\n",
    "# \"bo\" is for \"blue dot\"\n",
    "plt.plot(epochs, loss, 'r', label='Training loss')\n",
    "# b is for \"solid blue line\"\n",
    "plt.plot(epochs, val_loss, 'b', label='Validation loss')\n",
    "plt.title('Training and validation loss')\n",
    "# plt.xlabel('Epochs')\n",
    "plt.ylabel('Loss')\n",
    "plt.legend()\n",
    "\n",
    "plt.subplot(2, 1, 2)\n",
    "plt.plot(epochs, acc, 'r', label='Training acc')\n",
    "plt.plot(epochs, val_acc, 'b', label='Validation acc')\n",
    "plt.title('Training and validation accuracy')\n",
    "plt.xlabel('Epochs')\n",
    "plt.ylabel('Accuracy')\n",
    "plt.legend(loc='lower right')"
   ]
  },
  {
   "cell_type": "code",
   "execution_count": 15,
   "id": "74bc466b",
   "metadata": {},
   "outputs": [
    {
     "name": "stderr",
     "output_type": "stream",
     "text": [
      "WARNING:absl:Found untraced functions such as restored_function_body, restored_function_body, restored_function_body, restored_function_body, restored_function_body while saving (showing 5 of 310). These functions will not be directly callable after loading.\n"
     ]
    },
    {
     "name": "stdout",
     "output_type": "stream",
     "text": [
      "INFO:tensorflow:Assets written to: ./boston_DS_bert\\assets\n"
     ]
    },
    {
     "name": "stderr",
     "output_type": "stream",
     "text": [
      "INFO:tensorflow:Assets written to: ./boston_DS_bert\\assets\n"
     ]
    }
   ],
   "source": [
    "dataset_name = 'boston_DS'\n",
    "saved_model_path = './{}_bert'.format(dataset_name.replace('/', '_'))\n",
    "\n",
    "classifier_model.save(saved_model_path, include_optimizer=False)"
   ]
  },
  {
   "cell_type": "code",
   "execution_count": 16,
   "id": "c592cd10",
   "metadata": {},
   "outputs": [],
   "source": [
    "reloaded_model = tf.saved_model.load(saved_model_path)"
   ]
  },
  {
   "cell_type": "code",
   "execution_count": 35,
   "id": "6d16bf21",
   "metadata": {},
   "outputs": [
    {
     "name": "stdout",
     "output_type": "stream",
     "text": [
      "Results:\n",
      "\t Amendment_to_a_Long_Form\n",
      "\t Gas_Permit\n",
      "\t Plumbing_Permit\n",
      "\t Electrical_Low_Voltage\n",
      "\t Electrical_Permit\n"
     ]
    }
   ],
   "source": [
    "import numpy as np\n",
    "\n",
    "def print_my_examples(inputs, results):\n",
    "  result_for_printing = \\\n",
    "    [f'input: {inputs[i]:<30} : score: {results[i][0]:.6f}'\n",
    "                         for i in range(len(inputs))]\n",
    "  print(*result_for_printing, sep='\\n')\n",
    "  print()\n",
    "\n",
    "\n",
    "examples = [\n",
    "    'A1000569,INTEXT,Interior/Exterior Work,This work is to Amend Permit ALT347244. Eliminate construction of two party wall openings. Install new wheelchair lift.;;;;; E- Plans',  # this is the same sentence tried earlier\n",
    "    'G421944,GAS,Gas,Replace leaking gas water heater.',\n",
    "    'PL917318,PLUMBING,Plumbing,Installation of 2 Bathrooms and 1 Kitchen',\n",
    "    'ELV765406,LVOLT,Low Voltage,installation of low voltage wireless burglar alarm system',\n",
    "    'E1128739,ELECTRICAL,Electrical,Apt 54 on 5th floorWire bedroom/living room/bathroom and kitchen Combination of old work and new work Install new sub panel in unit'\n",
    "]\n",
    "\n",
    "reloaded_results = tf.sigmoid(reloaded_model(tf.constant(examples)))\n",
    "original_results = tf.sigmoid(classifier_model(tf.constant(examples)))\n",
    "\n",
    "print('Results:')\n",
    "max_ind = np.argmax(reloaded_results.numpy(), axis=1)\n",
    "for idx in max_ind:\n",
    "    print('\\t',class_names[idx])\n"
   ]
  },
  {
   "cell_type": "code",
   "execution_count": null,
   "id": "a7efbb83",
   "metadata": {},
   "outputs": [],
   "source": []
  }
 ],
 "metadata": {
  "kernelspec": {
   "display_name": "Python 3 (ipykernel)",
   "language": "python",
   "name": "python3"
  },
  "language_info": {
   "codemirror_mode": {
    "name": "ipython",
    "version": 3
   },
   "file_extension": ".py",
   "mimetype": "text/x-python",
   "name": "python",
   "nbconvert_exporter": "python",
   "pygments_lexer": "ipython3",
   "version": "3.7.4"
  }
 },
 "nbformat": 4,
 "nbformat_minor": 5
}
