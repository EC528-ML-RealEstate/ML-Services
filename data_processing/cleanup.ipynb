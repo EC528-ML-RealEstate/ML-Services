{
 "cells": [
  {
   "cell_type": "markdown",
   "metadata": {},
   "source": [
    "## Import packages and load the dataset:"
   ]
  },
  {
   "cell_type": "code",
   "execution_count": 21,
   "metadata": {},
   "outputs": [],
   "source": [
    "import pandas as pd\n",
    "import numpy as np\n",
    "import matplotlib.pyplot as plt\n",
    "df = pd.read_csv('../datasets/BostonData_10_10_2021.csv')"
   ]
  },
  {
   "cell_type": "code",
   "execution_count": 22,
   "metadata": {},
   "outputs": [
    {
     "data": {
      "text/html": "<div>\n<style scoped>\n    .dataframe tbody tr th:only-of-type {\n        vertical-align: middle;\n    }\n\n    .dataframe tbody tr th {\n        vertical-align: top;\n    }\n\n    .dataframe thead th {\n        text-align: right;\n    }\n</style>\n<table border=\"1\" class=\"dataframe\">\n  <thead>\n    <tr style=\"text-align: right;\">\n      <th></th>\n      <th>permitnumber</th>\n      <th>worktype</th>\n      <th>permittypedescr</th>\n      <th>description</th>\n      <th>comments</th>\n      <th>applicant</th>\n      <th>declared_valuation</th>\n      <th>total_fees</th>\n      <th>issued_date</th>\n      <th>expiration_date</th>\n      <th>...</th>\n      <th>occupancytype</th>\n      <th>sq_feet</th>\n      <th>address</th>\n      <th>city</th>\n      <th>state</th>\n      <th>zip</th>\n      <th>property_id</th>\n      <th>parcel_id</th>\n      <th>lat</th>\n      <th>long</th>\n    </tr>\n  </thead>\n  <tbody>\n    <tr>\n      <th>0</th>\n      <td>A1000569</td>\n      <td>INTEXT</td>\n      <td>Amendment to a Long Form</td>\n      <td>Interior/Exterior Work</td>\n      <td>This work is to Amend Permit ALT347244. Elimin...</td>\n      <td>Patrick Sharkey</td>\n      <td>36500.00</td>\n      <td>390.0</td>\n      <td>2021-01-28 11:29:26</td>\n      <td>2021-07-28 00:00:00</td>\n      <td>...</td>\n      <td>Mixed</td>\n      <td>0.0</td>\n      <td>181-183   State ST</td>\n      <td>Boston</td>\n      <td>MA</td>\n      <td>02109</td>\n      <td>130392</td>\n      <td>0303807000</td>\n      <td>42.359190</td>\n      <td>-71.052924</td>\n    </tr>\n    <tr>\n      <th>1</th>\n      <td>A100071</td>\n      <td>COB</td>\n      <td>Amendment to a Long Form</td>\n      <td>City of Boston</td>\n      <td>Change connector link layout from attached enc...</td>\n      <td>Renee Santeusanio</td>\n      <td>40000.00</td>\n      <td>429.0</td>\n      <td>2011-11-04 11:04:58</td>\n      <td>2012-05-04 00:00:00</td>\n      <td>...</td>\n      <td>Comm</td>\n      <td>170.0</td>\n      <td>175  W Boundary RD</td>\n      <td>West Roxbury</td>\n      <td>MA</td>\n      <td>02132</td>\n      <td>17268</td>\n      <td>2012032000</td>\n      <td>42.260750</td>\n      <td>-71.149610</td>\n    </tr>\n    <tr>\n      <th>2</th>\n      <td>A1001012</td>\n      <td>OTHER</td>\n      <td>Amendment to a Long Form</td>\n      <td>Other</td>\n      <td>Amend Alt943748 to erect a roof deck as per pl...</td>\n      <td>Jusimar Oliveria</td>\n      <td>5000.00</td>\n      <td>70.0</td>\n      <td>2020-06-01 14:08:47</td>\n      <td></td>\n      <td>...</td>\n      <td>1-3FAM</td>\n      <td>0.0</td>\n      <td>15    Prospect ST</td>\n      <td>Charlestown</td>\n      <td>MA</td>\n      <td>02129</td>\n      <td>113443</td>\n      <td>0202837000</td>\n      <td>42.375243</td>\n      <td>-71.057585</td>\n    </tr>\n    <tr>\n      <th>3</th>\n      <td>A1001201</td>\n      <td>INTEXT</td>\n      <td>Amendment to a Long Form</td>\n      <td>Interior/Exterior Work</td>\n      <td>Build steel balcony over garden level with sta...</td>\n      <td>Andreas Hwang</td>\n      <td>74295.75</td>\n      <td>803.0</td>\n      <td>2019-11-13 13:38:56</td>\n      <td>2020-05-13 00:00:00</td>\n      <td>...</td>\n      <td>Multi</td>\n      <td>0.0</td>\n      <td>211  W Springfield ST</td>\n      <td>Roxbury</td>\n      <td>MA</td>\n      <td>02118</td>\n      <td>129994</td>\n      <td>0402558000</td>\n      <td>42.340600</td>\n      <td>-71.080250</td>\n    </tr>\n    <tr>\n      <th>4</th>\n      <td>A100137</td>\n      <td>EXTREN</td>\n      <td>Amendment to a Long Form</td>\n      <td>Renovations - Exterior</td>\n      <td>Landscaping/stonework - amending permit #2801/...</td>\n      <td>NaN</td>\n      <td>15000.00</td>\n      <td>206.0</td>\n      <td>2013-01-03 14:13:09</td>\n      <td>2013-07-03 00:00:00</td>\n      <td>...</td>\n      <td>1-2FAM</td>\n      <td>0.0</td>\n      <td>14    William Jackson AVE</td>\n      <td>Brighton</td>\n      <td>MA</td>\n      <td>02135</td>\n      <td>149852</td>\n      <td>2204944000</td>\n      <td>42.344600</td>\n      <td>-71.154050</td>\n    </tr>\n  </tbody>\n</table>\n<p>5 rows × 22 columns</p>\n</div>",
      "text/plain": "  permitnumber worktype           permittypedescr             description  \\\n0     A1000569   INTEXT  Amendment to a Long Form  Interior/Exterior Work   \n1      A100071      COB  Amendment to a Long Form          City of Boston   \n2     A1001012    OTHER  Amendment to a Long Form                   Other   \n3     A1001201   INTEXT  Amendment to a Long Form  Interior/Exterior Work   \n4      A100137   EXTREN  Amendment to a Long Form  Renovations - Exterior   \n\n                                            comments          applicant  \\\n0  This work is to Amend Permit ALT347244. Elimin...    Patrick Sharkey   \n1  Change connector link layout from attached enc...  Renee Santeusanio   \n2  Amend Alt943748 to erect a roof deck as per pl...   Jusimar Oliveria   \n3  Build steel balcony over garden level with sta...      Andreas Hwang   \n4  Landscaping/stonework - amending permit #2801/...                NaN   \n\n   declared_valuation  total_fees          issued_date      expiration_date  \\\n0            36500.00       390.0  2021-01-28 11:29:26  2021-07-28 00:00:00   \n1            40000.00       429.0  2011-11-04 11:04:58  2012-05-04 00:00:00   \n2             5000.00        70.0  2020-06-01 14:08:47                        \n3            74295.75       803.0  2019-11-13 13:38:56  2020-05-13 00:00:00   \n4            15000.00       206.0  2013-01-03 14:13:09  2013-07-03 00:00:00   \n\n   ... occupancytype sq_feet                    address          city state  \\\n0  ...         Mixed     0.0         181-183   State ST        Boston    MA   \n1  ...          Comm   170.0         175  W Boundary RD  West Roxbury    MA   \n2  ...        1-3FAM     0.0          15    Prospect ST   Charlestown    MA   \n3  ...         Multi     0.0      211  W Springfield ST       Roxbury    MA   \n4  ...        1-2FAM     0.0  14    William Jackson AVE      Brighton    MA   \n\n     zip property_id   parcel_id        lat       long  \n0  02109      130392  0303807000  42.359190 -71.052924  \n1  02132       17268  2012032000  42.260750 -71.149610  \n2  02129      113443  0202837000  42.375243 -71.057585  \n3  02118      129994  0402558000  42.340600 -71.080250  \n4  02135      149852  2204944000  42.344600 -71.154050  \n\n[5 rows x 22 columns]"
     },
     "execution_count": 22,
     "metadata": {},
     "output_type": "execute_result"
    }
   ],
   "source": [
    "df.head()"
   ]
  },
  {
   "cell_type": "markdown",
   "metadata": {},
   "source": [
    "## Drop columns that will not be used:"
   ]
  },
  {
   "cell_type": "code",
   "execution_count": 23,
   "metadata": {},
   "outputs": [
    {
     "data": {
      "text/html": "<div>\n<style scoped>\n    .dataframe tbody tr th:only-of-type {\n        vertical-align: middle;\n    }\n\n    .dataframe tbody tr th {\n        vertical-align: top;\n    }\n\n    .dataframe thead th {\n        text-align: right;\n    }\n</style>\n<table border=\"1\" class=\"dataframe\">\n  <thead>\n    <tr style=\"text-align: right;\">\n      <th></th>\n      <th>permitnumber</th>\n      <th>worktype</th>\n      <th>permittypedescr</th>\n      <th>description</th>\n      <th>comments</th>\n    </tr>\n  </thead>\n  <tbody>\n    <tr>\n      <th>0</th>\n      <td>A1000569</td>\n      <td>INTEXT</td>\n      <td>Amendment to a Long Form</td>\n      <td>Interior/Exterior Work</td>\n      <td>This work is to Amend Permit ALT347244. Elimin...</td>\n    </tr>\n    <tr>\n      <th>1</th>\n      <td>A100071</td>\n      <td>COB</td>\n      <td>Amendment to a Long Form</td>\n      <td>City of Boston</td>\n      <td>Change connector link layout from attached enc...</td>\n    </tr>\n    <tr>\n      <th>2</th>\n      <td>A1001012</td>\n      <td>OTHER</td>\n      <td>Amendment to a Long Form</td>\n      <td>Other</td>\n      <td>Amend Alt943748 to erect a roof deck as per pl...</td>\n    </tr>\n    <tr>\n      <th>3</th>\n      <td>A1001201</td>\n      <td>INTEXT</td>\n      <td>Amendment to a Long Form</td>\n      <td>Interior/Exterior Work</td>\n      <td>Build steel balcony over garden level with sta...</td>\n    </tr>\n    <tr>\n      <th>4</th>\n      <td>A100137</td>\n      <td>EXTREN</td>\n      <td>Amendment to a Long Form</td>\n      <td>Renovations - Exterior</td>\n      <td>Landscaping/stonework - amending permit #2801/...</td>\n    </tr>\n  </tbody>\n</table>\n</div>",
      "text/plain": "  permitnumber worktype           permittypedescr             description  \\\n0     A1000569   INTEXT  Amendment to a Long Form  Interior/Exterior Work   \n1      A100071      COB  Amendment to a Long Form          City of Boston   \n2     A1001012    OTHER  Amendment to a Long Form                   Other   \n3     A1001201   INTEXT  Amendment to a Long Form  Interior/Exterior Work   \n4      A100137   EXTREN  Amendment to a Long Form  Renovations - Exterior   \n\n                                            comments  \n0  This work is to Amend Permit ALT347244. Elimin...  \n1  Change connector link layout from attached enc...  \n2  Amend Alt943748 to erect a roof deck as per pl...  \n3  Build steel balcony over garden level with sta...  \n4  Landscaping/stonework - amending permit #2801/...  "
     },
     "execution_count": 23,
     "metadata": {},
     "output_type": "execute_result"
    }
   ],
   "source": [
    "drop_cols = [\"applicant\",\n",
    "            \"declared_valuation\",\n",
    "            \"total_fees\",\n",
    "            \"issued_date\",\n",
    "            \"expiration_date\",\n",
    "            \"occupancytype\",\n",
    "            \"owner\",\n",
    "            \"sq_feet\",\n",
    "            \"property_id\",\n",
    "            \"parcel_id\",\n",
    "            \"status\",\n",
    "            \"address\",\n",
    "            \"city\",\n",
    "            \"state\",\n",
    "            \"zip\",\n",
    "            \"lat\",\n",
    "            \"long\"]\n",
    "df.drop(drop_cols, inplace=True, axis=1)\n",
    "df.head()"
   ]
  },
  {
   "cell_type": "markdown",
   "metadata": {},
   "source": [
    "## Check if there are any duplicate permits:"
   ]
  },
  {
   "cell_type": "code",
   "execution_count": 24,
   "metadata": {},
   "outputs": [
    {
     "name": "stdout",
     "output_type": "stream",
     "text": [
      "Number of records before removing duplicates: 518341\n",
      "Removed 0 duplicates.\n"
     ]
    }
   ],
   "source": [
    "data_size = df.shape[0]\n",
    "print(f\"Number of records before removing duplicates: {data_size}\")\n",
    "df.drop_duplicates(subset=['permitnumber'])\n",
    "data_size_after_drop = df.shape[0]\n",
    "removed = data_size - data_size_after_drop\n",
    "print(f\"Removed {removed} duplicates.\")"
   ]
  },
  {
   "cell_type": "markdown",
   "metadata": {},
   "source": [
    "## Replace empty values with NaN and display rows that have NaN values"
   ]
  },
  {
   "cell_type": "code",
   "execution_count": 25,
   "metadata": {},
   "outputs": [
    {
     "data": {
      "text/html": "<div>\n<style scoped>\n    .dataframe tbody tr th:only-of-type {\n        vertical-align: middle;\n    }\n\n    .dataframe tbody tr th {\n        vertical-align: top;\n    }\n\n    .dataframe thead th {\n        text-align: right;\n    }\n</style>\n<table border=\"1\" class=\"dataframe\">\n  <thead>\n    <tr style=\"text-align: right;\">\n      <th></th>\n      <th>permitnumber</th>\n      <th>worktype</th>\n      <th>permittypedescr</th>\n      <th>description</th>\n      <th>comments</th>\n    </tr>\n  </thead>\n  <tbody>\n    <tr>\n      <th>109</th>\n      <td>COO109004</td>\n      <td>NaN</td>\n      <td>Certificate of Occupancy</td>\n      <td>NaN</td>\n      <td>(8) Apartmentsalt 54792  issued 5/17/2011</td>\n    </tr>\n    <tr>\n      <th>110</th>\n      <td>A1024559</td>\n      <td>NaN</td>\n      <td>Amendment to a Long Form</td>\n      <td>NaN</td>\n      <td>Amendment to ALT927804. Interior renovations t...</td>\n    </tr>\n    <tr>\n      <th>242</th>\n      <td>A1055057</td>\n      <td>NaN</td>\n      <td>Amendment to a Long Form</td>\n      <td>NaN</td>\n      <td>Replacement of exterior window and strorefront...</td>\n    </tr>\n    <tr>\n      <th>403</th>\n      <td>A1109515</td>\n      <td>NaN</td>\n      <td>Amendment to a Long Form</td>\n      <td>NaN</td>\n      <td>Webber Shandwick - 14th floor tenant renovatio...</td>\n    </tr>\n    <tr>\n      <th>404</th>\n      <td>A1109515</td>\n      <td>NaN</td>\n      <td>Amendment to a Long Form</td>\n      <td>NaN</td>\n      <td>Webber Shandwick - 14th floor tenant renovatio...</td>\n    </tr>\n    <tr>\n      <th>...</th>\n      <td>...</td>\n      <td>...</td>\n      <td>...</td>\n      <td>...</td>\n      <td>...</td>\n    </tr>\n    <tr>\n      <th>513609</th>\n      <td>SF971069</td>\n      <td>NaN</td>\n      <td>Short Form Bldg Permit</td>\n      <td>NaN</td>\n      <td>(exterior sign exchange) Remove existing price...</td>\n    </tr>\n    <tr>\n      <th>514760</th>\n      <td>SF980107</td>\n      <td>NaN</td>\n      <td>Short Form Bldg Permit</td>\n      <td>NaN</td>\n      <td>*At Risk - Work to Rough. Add 2 shed dormers t...</td>\n    </tr>\n    <tr>\n      <th>516821</th>\n      <td>SF998385</td>\n      <td>NaN</td>\n      <td>Short Form Bldg Permit</td>\n      <td>NaN</td>\n      <td>Repair and rebuild existing front;3 story deck...</td>\n    </tr>\n    <tr>\n      <th>517062</th>\n      <td>U491003839</td>\n      <td>NaN</td>\n      <td>Use of Premises</td>\n      <td>NaN</td>\n      <td>Add 80 seats to the outdoor seating only. No o...</td>\n    </tr>\n    <tr>\n      <th>518197</th>\n      <td>U4986737</td>\n      <td>NaN</td>\n      <td>Use of Premises</td>\n      <td>NaN</td>\n      <td>to continue the use as public parking lot for ...</td>\n    </tr>\n  </tbody>\n</table>\n<p>4554 rows × 5 columns</p>\n</div>",
      "text/plain": "       permitnumber worktype           permittypedescr description  \\\n109       COO109004      NaN  Certificate of Occupancy         NaN   \n110        A1024559      NaN  Amendment to a Long Form         NaN   \n242        A1055057      NaN  Amendment to a Long Form         NaN   \n403        A1109515      NaN  Amendment to a Long Form         NaN   \n404        A1109515      NaN  Amendment to a Long Form         NaN   \n...             ...      ...                       ...         ...   \n513609     SF971069      NaN    Short Form Bldg Permit         NaN   \n514760     SF980107      NaN    Short Form Bldg Permit         NaN   \n516821     SF998385      NaN    Short Form Bldg Permit         NaN   \n517062   U491003839      NaN           Use of Premises         NaN   \n518197     U4986737      NaN           Use of Premises         NaN   \n\n                                                 comments  \n109             (8) Apartmentsalt 54792  issued 5/17/2011  \n110     Amendment to ALT927804. Interior renovations t...  \n242     Replacement of exterior window and strorefront...  \n403     Webber Shandwick - 14th floor tenant renovatio...  \n404     Webber Shandwick - 14th floor tenant renovatio...  \n...                                                   ...  \n513609  (exterior sign exchange) Remove existing price...  \n514760  *At Risk - Work to Rough. Add 2 shed dormers t...  \n516821  Repair and rebuild existing front;3 story deck...  \n517062  Add 80 seats to the outdoor seating only. No o...  \n518197  to continue the use as public parking lot for ...  \n\n[4554 rows x 5 columns]"
     },
     "execution_count": 25,
     "metadata": {},
     "output_type": "execute_result"
    }
   ],
   "source": [
    "df = df.replace(' ', np.nan)\n",
    "nan_values = df[df.isna().any(axis=1)]\n",
    "nan_values"
   ]
  },
  {
   "cell_type": "markdown",
   "metadata": {},
   "source": [
    "## Drop rows where at least one element is missing"
   ]
  },
  {
   "cell_type": "code",
   "execution_count": 26,
   "metadata": {},
   "outputs": [
    {
     "data": {
      "text/html": "<div>\n<style scoped>\n    .dataframe tbody tr th:only-of-type {\n        vertical-align: middle;\n    }\n\n    .dataframe tbody tr th {\n        vertical-align: top;\n    }\n\n    .dataframe thead th {\n        text-align: right;\n    }\n</style>\n<table border=\"1\" class=\"dataframe\">\n  <thead>\n    <tr style=\"text-align: right;\">\n      <th></th>\n      <th>permitnumber</th>\n      <th>worktype</th>\n      <th>permittypedescr</th>\n      <th>description</th>\n      <th>comments</th>\n    </tr>\n  </thead>\n  <tbody>\n    <tr>\n      <th>0</th>\n      <td>A1000569</td>\n      <td>INTEXT</td>\n      <td>Amendment to a Long Form</td>\n      <td>Interior/Exterior Work</td>\n      <td>This work is to Amend Permit ALT347244. Elimin...</td>\n    </tr>\n    <tr>\n      <th>1</th>\n      <td>A100071</td>\n      <td>COB</td>\n      <td>Amendment to a Long Form</td>\n      <td>City of Boston</td>\n      <td>Change connector link layout from attached enc...</td>\n    </tr>\n    <tr>\n      <th>2</th>\n      <td>A1001012</td>\n      <td>OTHER</td>\n      <td>Amendment to a Long Form</td>\n      <td>Other</td>\n      <td>Amend Alt943748 to erect a roof deck as per pl...</td>\n    </tr>\n    <tr>\n      <th>3</th>\n      <td>A1001201</td>\n      <td>INTEXT</td>\n      <td>Amendment to a Long Form</td>\n      <td>Interior/Exterior Work</td>\n      <td>Build steel balcony over garden level with sta...</td>\n    </tr>\n    <tr>\n      <th>4</th>\n      <td>A100137</td>\n      <td>EXTREN</td>\n      <td>Amendment to a Long Form</td>\n      <td>Renovations - Exterior</td>\n      <td>Landscaping/stonework - amending permit #2801/...</td>\n    </tr>\n    <tr>\n      <th>...</th>\n      <td>...</td>\n      <td>...</td>\n      <td>...</td>\n      <td>...</td>\n      <td>...</td>\n    </tr>\n    <tr>\n      <th>518336</th>\n      <td>U49993435</td>\n      <td>OSEAT</td>\n      <td>Use of Premises</td>\n      <td>Outside Seating</td>\n      <td>Outdoor patio / amenity space for commercial o...</td>\n    </tr>\n    <tr>\n      <th>518337</th>\n      <td>U49993435</td>\n      <td>OSEAT</td>\n      <td>Use of Premises</td>\n      <td>Outside Seating</td>\n      <td>Outdoor patio / amenity space for commercial o...</td>\n    </tr>\n    <tr>\n      <th>518338</th>\n      <td>U49993492</td>\n      <td>TEMTRL</td>\n      <td>Use of Premises</td>\n      <td>Temporary Trailers</td>\n      <td>Temporary Construction Trailer at Herb Chamber...</td>\n    </tr>\n    <tr>\n      <th>518339</th>\n      <td>U4999352</td>\n      <td>DRIVE</td>\n      <td>Use of Premises</td>\n      <td>Driveway Installation</td>\n      <td>Owners would like to install a curb cut and a ...</td>\n    </tr>\n    <tr>\n      <th>518340</th>\n      <td>U49996370</td>\n      <td>RESPAR</td>\n      <td>Use of Premises</td>\n      <td>Residential Parking</td>\n      <td>use of premises for;1 car parking with new dri...</td>\n    </tr>\n  </tbody>\n</table>\n<p>513787 rows × 5 columns</p>\n</div>",
      "text/plain": "       permitnumber worktype           permittypedescr  \\\n0          A1000569   INTEXT  Amendment to a Long Form   \n1           A100071      COB  Amendment to a Long Form   \n2          A1001012    OTHER  Amendment to a Long Form   \n3          A1001201   INTEXT  Amendment to a Long Form   \n4           A100137   EXTREN  Amendment to a Long Form   \n...             ...      ...                       ...   \n518336    U49993435    OSEAT           Use of Premises   \n518337    U49993435    OSEAT           Use of Premises   \n518338    U49993492   TEMTRL           Use of Premises   \n518339     U4999352    DRIVE           Use of Premises   \n518340    U49996370   RESPAR           Use of Premises   \n\n                   description  \\\n0       Interior/Exterior Work   \n1               City of Boston   \n2                        Other   \n3       Interior/Exterior Work   \n4       Renovations - Exterior   \n...                        ...   \n518336         Outside Seating   \n518337         Outside Seating   \n518338      Temporary Trailers   \n518339   Driveway Installation   \n518340     Residential Parking   \n\n                                                 comments  \n0       This work is to Amend Permit ALT347244. Elimin...  \n1       Change connector link layout from attached enc...  \n2       Amend Alt943748 to erect a roof deck as per pl...  \n3       Build steel balcony over garden level with sta...  \n4       Landscaping/stonework - amending permit #2801/...  \n...                                                   ...  \n518336  Outdoor patio / amenity space for commercial o...  \n518337  Outdoor patio / amenity space for commercial o...  \n518338  Temporary Construction Trailer at Herb Chamber...  \n518339  Owners would like to install a curb cut and a ...  \n518340  use of premises for;1 car parking with new dri...  \n\n[513787 rows x 5 columns]"
     },
     "execution_count": 26,
     "metadata": {},
     "output_type": "execute_result"
    }
   ],
   "source": [
    "df.dropna()"
   ]
  },
  {
   "cell_type": "markdown",
   "metadata": {},
   "source": [
    "## Display the count for each permit type"
   ]
  },
  {
   "cell_type": "code",
   "execution_count": 27,
   "metadata": {},
   "outputs": [
    {
     "data": {
      "text/plain": "Short Form Bldg Permit          139628\nElectrical Permit               108725\nPlumbing Permit                  69424\nGas Permit                       51438\nElectrical Low Voltage           42117\nLong Form/Alteration Permit      34403\nElectrical Fire Alarms           28342\nCertificate of Occupancy         18447\nExcavation Permit                10814\nElectrical Temporary Service      7134\nAmendment to a Long Form          3933\nErect/New Construction            2561\nUse of Premises                   1285\nFoundation Permit                   90\nName: permittypedescr, dtype: int64"
     },
     "execution_count": 27,
     "metadata": {},
     "output_type": "execute_result"
    }
   ],
   "source": [
    "df['permittypedescr'].value_counts()"
   ]
  },
  {
   "cell_type": "markdown",
   "metadata": {},
   "source": [
    "## Data Graphs"
   ]
  },
  {
   "cell_type": "code",
   "execution_count": 28,
   "metadata": {},
   "outputs": [
    {
     "data": {
      "text/plain": "<AxesSubplot:title={'center':'Permit Type Distribution'}, ylabel='Type Count'>"
     },
     "execution_count": 28,
     "metadata": {},
     "output_type": "execute_result"
    },
    {
     "data": {
      "image/png": "[encoded data removed]",
      "text/plain": "<Figure size 720x720 with 1 Axes>"
     },
     "metadata": {
      "needs_background": "light"
     },
     "output_type": "display_data"
    }
   ],
   "source": [
    "df['permittypedescr'].value_counts().plot.bar(figsize=(10,10), grid=True, title='Permit Type Distribution', ylabel='Type Count')"
   ]
  },
  {
   "cell_type": "markdown",
   "metadata": {},
   "source": [
    "# ML Playground"
   ]
  },
  {
   "cell_type": "markdown",
   "metadata": {},
   "source": [
    "## Grab X data"
   ]
  },
  {
   "cell_type": "code",
   "execution_count": 29,
   "metadata": {},
   "outputs": [
    {
     "data": {
      "text/html": "<div>\n<style scoped>\n    .dataframe tbody tr th:only-of-type {\n        vertical-align: middle;\n    }\n\n    .dataframe tbody tr th {\n        vertical-align: top;\n    }\n\n    .dataframe thead th {\n        text-align: right;\n    }\n</style>\n<table border=\"1\" class=\"dataframe\">\n  <thead>\n    <tr style=\"text-align: right;\">\n      <th></th>\n      <th>permitnumber</th>\n      <th>worktype</th>\n      <th>description</th>\n      <th>comments</th>\n    </tr>\n  </thead>\n  <tbody>\n    <tr>\n      <th>0</th>\n      <td>A1000569</td>\n      <td>INTEXT</td>\n      <td>Interior/Exterior Work</td>\n      <td>This work is to Amend Permit ALT347244. Elimin...</td>\n    </tr>\n    <tr>\n      <th>1</th>\n      <td>A100071</td>\n      <td>COB</td>\n      <td>City of Boston</td>\n      <td>Change connector link layout from attached enc...</td>\n    </tr>\n    <tr>\n      <th>2</th>\n      <td>A1001012</td>\n      <td>OTHER</td>\n      <td>Other</td>\n      <td>Amend Alt943748 to erect a roof deck as per pl...</td>\n    </tr>\n    <tr>\n      <th>3</th>\n      <td>A1001201</td>\n      <td>INTEXT</td>\n      <td>Interior/Exterior Work</td>\n      <td>Build steel balcony over garden level with sta...</td>\n    </tr>\n    <tr>\n      <th>4</th>\n      <td>A100137</td>\n      <td>EXTREN</td>\n      <td>Renovations - Exterior</td>\n      <td>Landscaping/stonework - amending permit #2801/...</td>\n    </tr>\n  </tbody>\n</table>\n</div>",
      "text/plain": "  permitnumber worktype             description  \\\n0     A1000569   INTEXT  Interior/Exterior Work   \n1      A100071      COB          City of Boston   \n2     A1001012    OTHER                   Other   \n3     A1001201   INTEXT  Interior/Exterior Work   \n4      A100137   EXTREN  Renovations - Exterior   \n\n                                            comments  \n0  This work is to Amend Permit ALT347244. Elimin...  \n1  Change connector link layout from attached enc...  \n2  Amend Alt943748 to erect a roof deck as per pl...  \n3  Build steel balcony over garden level with sta...  \n4  Landscaping/stonework - amending permit #2801/...  "
     },
     "execution_count": 29,
     "metadata": {},
     "output_type": "execute_result"
    }
   ],
   "source": [
    "X = df.drop(columns=['permittypedescr'])\n",
    "X.head()"
   ]
  },
  {
   "cell_type": "code",
   "execution_count": 30,
   "metadata": {},
   "outputs": [
    {
     "data": {
      "text/html": "<div>\n<style scoped>\n    .dataframe tbody tr th:only-of-type {\n        vertical-align: middle;\n    }\n\n    .dataframe tbody tr th {\n        vertical-align: top;\n    }\n\n    .dataframe thead th {\n        text-align: right;\n    }\n</style>\n<table border=\"1\" class=\"dataframe\">\n  <thead>\n    <tr style=\"text-align: right;\">\n      <th></th>\n      <th>comments</th>\n    </tr>\n  </thead>\n  <tbody>\n    <tr>\n      <th>0</th>\n      <td>This work is to Amend Permit ALT347244. Elimin...</td>\n    </tr>\n    <tr>\n      <th>1</th>\n      <td>Change connector link layout from attached enc...</td>\n    </tr>\n    <tr>\n      <th>2</th>\n      <td>Amend Alt943748 to erect a roof deck as per pl...</td>\n    </tr>\n    <tr>\n      <th>3</th>\n      <td>Build steel balcony over garden level with sta...</td>\n    </tr>\n    <tr>\n      <th>4</th>\n      <td>Landscaping/stonework - amending permit #2801/...</td>\n    </tr>\n  </tbody>\n</table>\n</div>",
      "text/plain": "                                            comments\n0  This work is to Amend Permit ALT347244. Elimin...\n1  Change connector link layout from attached enc...\n2  Amend Alt943748 to erect a roof deck as per pl...\n3  Build steel balcony over garden level with sta...\n4  Landscaping/stonework - amending permit #2801/..."
     },
     "execution_count": 30,
     "metadata": {},
     "output_type": "execute_result"
    }
   ],
   "source": [
    "X_comments = df.drop(columns=['permittypedescr','permitnumber', 'worktype', 'description'])\n",
    "X_comments.head()"
   ]
  },
  {
   "cell_type": "markdown",
   "metadata": {},
   "source": [
    "## Grab y data (Labels)"
   ]
  },
  {
   "cell_type": "code",
   "execution_count": 31,
   "metadata": {},
   "outputs": [
    {
     "data": {
      "text/plain": "0    Amendment to a Long Form\n1    Amendment to a Long Form\n2    Amendment to a Long Form\n3    Amendment to a Long Form\n4    Amendment to a Long Form\nName: permittypedescr, dtype: object"
     },
     "execution_count": 31,
     "metadata": {},
     "output_type": "execute_result"
    }
   ],
   "source": [
    "y = df.permittypedescr\n",
    "y.head()"
   ]
  },
  {
   "cell_type": "markdown",
   "metadata": {},
   "source": [
    "## Export X and X_comments and y data to CSV"
   ]
  },
  {
   "cell_type": "code",
   "execution_count": 33,
   "metadata": {},
   "outputs": [],
   "source": [
    "X.to_csv(path_or_buf='../datasets/X_BostonDataSet.csv', index=False)"
   ]
  },
  {
   "cell_type": "code",
   "execution_count": 34,
   "metadata": {},
   "outputs": [],
   "source": [
    "X_comments.to_csv(path_or_buf='../datasets/X_comments_BostonDataSet.csv', index=False)"
   ]
  },
  {
   "cell_type": "code",
   "execution_count": 35,
   "metadata": {},
   "outputs": [],
   "source": [
    "y.to_csv(path_or_buf='../datasets/y_BostonDataSet.csv', index=False)"
   ]
  }
 ],
 "metadata": {
  "kernelspec": {
   "display_name": "Python 3",
   "language": "python",
   "name": "python3"
  },
  "language_info": {
   "codemirror_mode": {
    "name": "ipython",
    "version": 3
   },
   "file_extension": ".py",
   "mimetype": "text/x-python",
   "name": "python",
   "nbconvert_exporter": "python",
   "pygments_lexer": "ipython3",
   "version": "3.6.8"
  },
  "orig_nbformat": 2
 },
 "nbformat": 4,
 "nbformat_minor": 2
}